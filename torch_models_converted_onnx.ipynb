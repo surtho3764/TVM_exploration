{
 "cells": [
  {
   "cell_type": "code",
   "execution_count": 1,
   "id": "626a6f47",
   "metadata": {},
   "outputs": [],
   "source": [
    "import os\n",
    "import torch\n",
    "import torch.onnx\n",
    "import torchvision\n",
    "from models import resnet,VGG\n"
   ]
  },
  {
   "cell_type": "markdown",
   "id": "8cda4180",
   "metadata": {},
   "source": [
    "# Load  PyTorch model"
   ]
  },
  {
   "cell_type": "code",
   "execution_count": 2,
   "id": "465920a6",
   "metadata": {},
   "outputs": [],
   "source": [
    "# load torch model\n",
    "models = {\n",
    "    \"resnet50\" : resnet.resnet50(pretrained=False, progress=True),\n",
    "    \"vgg16\" : VGG.vgg16(pretrained=False, progress=True)\n",
    "}"
   ]
  },
  {
   "cell_type": "code",
   "execution_count": null,
   "id": "ac16210d",
   "metadata": {},
   "outputs": [],
   "source": [
    "import torch\n",
    "model = torch.hub.load('pytorch/vision:v0.10.0', 'mobilenet_v2', pretrained=True)\n",
    "model.eval()"
   ]
  },
  {
   "cell_type": "markdown",
   "id": "e77ee1e5",
   "metadata": {},
   "source": [
    "# converted onnx"
   ]
  },
  {
   "cell_type": "code",
   "execution_count": null,
   "id": "45a23dfe",
   "metadata": {},
   "outputs": [],
   "source": [
    "dummy_input = torch.randn(1,3,224,224)\n",
    "\n",
    "#[\"resnet18\",\"resnet50\",\"vgg16\"]:\n",
    "for model_name in [\"mobilenet_v2\",\"resnet50\",\"vgg16\"]:\n",
    "    print(\"model_name:\",model_name)\n",
    "    \n",
    "    if model_name == \"mobilenet_v2\":\n",
    "        net = torch.hub.load('pytorch/vision:v0.10.0', 'mobilenet_v2', pretrained=True).eval()\n",
    "    else:\n",
    "        net = models[model_name].eval()\n",
    "    \n",
    "    out = net(dummy_input)\n",
    "    input_names = [\"input\"]\n",
    "    output_names = [\"output\"]\n",
    "\n",
    "\n",
    "    base_file = model_name + \".onnx\"\n",
    "    save_folder = \"./models/\" + \"onnx/\"\n",
    "\n",
    "    if not(os.path.isdir(save_folder)):\n",
    "        os.mkdir(save_folder)\n",
    "    # export to ONNX\n",
    "    torch.onnx.export(net,\n",
    "                      dummy_input,\n",
    "                      str(save_folder + base_file ),\n",
    "                      input_names = input_names,\n",
    "                      output_names = output_names,\n",
    "                      verbose=True\n",
    "                     )\n",
    "    \n",
    "    # visualization\n",
    "    #import netron\n",
    "    #modelPath = save_folder + base_file\n",
    "    #print(modelPath)\n",
    "    #netron.start(modelPath)\n",
    "\n",
    "    # get file size\n",
    "    #file_stats = os.stat(modelPath)\n",
    "    #print(\"File Size in Bytes is: \" ,file_stats.st_size)\n",
    "    #print(\"File Size in MegaBytes is \", file_stats.st_size / (1024 *1024))\n",
    "    #print(\"\\n\")"
   ]
  },
  {
   "cell_type": "code",
   "execution_count": null,
   "id": "efbdc9dc",
   "metadata": {},
   "outputs": [],
   "source": []
  }
 ],
 "metadata": {
  "kernelspec": {
   "display_name": "Python 3 (ipykernel)",
   "language": "python",
   "name": "python3"
  },
  "language_info": {
   "codemirror_mode": {
    "name": "ipython",
    "version": 3
   },
   "file_extension": ".py",
   "mimetype": "text/x-python",
   "name": "python",
   "nbconvert_exporter": "python",
   "pygments_lexer": "ipython3",
   "version": "3.10.10"
  },
  "toc": {
   "base_numbering": 1,
   "nav_menu": {},
   "number_sections": true,
   "sideBar": true,
   "skip_h1_title": false,
   "title_cell": "Table of Contents",
   "title_sidebar": "Contents",
   "toc_cell": false,
   "toc_position": {},
   "toc_section_display": true,
   "toc_window_display": false
  }
 },
 "nbformat": 4,
 "nbformat_minor": 5
}
